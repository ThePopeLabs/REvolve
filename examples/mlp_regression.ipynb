{
 "cells": [
  {
   "cell_type": "code",
   "execution_count": null,
   "outputs": [],
   "source": [
    "import tensorflow as tf\n",
    "import tensorflow_addons as tfa\n",
    "from sklearn.preprocessing import StandardScaler\n",
    "from sklearn.model_selection import train_test_split\n",
    "import logging, os\n",
    "logging.disable(logging.WARNING)\n",
    "os.environ[\"TF_CPP_MIN_LOG_LEVEL\"] = \"3\"\n",
    "import warnings\n",
    "warnings.filterwarnings('ignore')\n",
    "\n",
    "\n",
    "from revolve.grids import MLPParameterGrid\n",
    "from revolve.architectures import MLPStrategy\n",
    "from revolve.algorithms import EvolutionaryAlgorithmElitism\n",
    "from revolve.operators import (\n",
    "    Operations,\n",
    "    random_mutation,\n",
    "    uniform_crossover,\n",
    "    roulette_wheel_selection,\n",
<<<<<<< HEAD
    ")"
   ],
   "metadata": {
    "collapsed": false,
    "pycharm": {
     "name": "#%%\n"
    }
   }
  },
  {
   "cell_type": "code",
   "execution_count": null,
   "outputs": [],
   "source": [
=======
    ")\n",
>>>>>>> main
    "train, test = tf.keras.datasets.boston_housing.load_data(\n",
    "    path=\"boston_housing.npz\", test_split=0.2, seed=113\n",
    ")\n",
    "x_train_full, y_train_full = train\n",
    "x_test, y_test = test"
   ],
   "metadata": {
    "collapsed": false,
    "pycharm": {
     "name": "#%%\n"
    }
   }
  },
  {
   "cell_type": "code",
<<<<<<< HEAD
   "execution_count": null,
=======
<<<<<<< HEAD
   "execution_count": null,
=======
   "execution_count": 2,
>>>>>>> main
>>>>>>> development
   "outputs": [],
   "source": [
    "x_train, x_valid, y_train, y_valid = train_test_split(x_train_full, y_train_full, test_size=0.1, random_state=42)"
   ],
   "metadata": {
    "collapsed": false,
    "pycharm": {
     "name": "#%%\n"
    }
   }
  },
  {
   "cell_type": "code",
<<<<<<< HEAD
   "execution_count": null,
=======
<<<<<<< HEAD
   "execution_count": null,
=======
   "execution_count": 3,
>>>>>>> main
>>>>>>> development
   "outputs": [],
   "source": [
    "scaler = StandardScaler()\n",
    "x_train = scaler.fit_transform(x_train)\n",
    "x_valid = scaler.transform(x_valid)\n",
    "x_test = scaler.transform(x_test)"
   ],
   "metadata": {
    "collapsed": false,
    "pycharm": {
     "name": "#%%\n"
    }
   }
  },
  {
   "cell_type": "code",
<<<<<<< HEAD
   "execution_count": null,
=======
<<<<<<< HEAD
   "execution_count": null,
=======
   "execution_count": 4,
>>>>>>> main
>>>>>>> development
   "outputs": [],
   "source": [
    "operations = Operations()\n",
    "operations.register(roulette_wheel_selection)\n",
    "operations.register(uniform_crossover, probability=0.5)\n",
    "operations.register(random_mutation, probability=0.4)"
   ],
   "metadata": {
    "collapsed": false,
    "pycharm": {
     "name": "#%%\n"
    }
   }
  },
  {
   "cell_type": "code",
<<<<<<< HEAD
   "execution_count": null,
   "outputs": [],
=======
<<<<<<< HEAD
   "execution_count": null,
   "outputs": [],
=======
   "execution_count": 5,
   "outputs": [
    {
     "data": {
      "text/plain": "['selection', 'crossover', 'mutation']"
     },
     "execution_count": 5,
     "metadata": {},
     "output_type": "execute_result"
    }
   ],
>>>>>>> main
>>>>>>> development
   "source": [
    "operations.get_operations()"
   ],
   "metadata": {
    "collapsed": false,
    "pycharm": {
     "name": "#%%\n"
    }
   }
  },
  {
   "cell_type": "code",
<<<<<<< HEAD
   "execution_count": null,
=======
<<<<<<< HEAD
   "execution_count": null,
=======
   "execution_count": 6,
>>>>>>> main
>>>>>>> development
   "outputs": [],
   "source": [
    "mlp_params = MLPParameterGrid(\n",
    "    input_shape=(x_train.shape[1],),\n",
    "    regression_target=1,\n",
    "    regression_activation= \"relu\",\n",
    "    hidden_neurons = [0, 16, 32, 64, 128, 258, 512, 1024, 2048],\n",
    "    activation=['relu', 'swish'],\n",
    "    dropout=[0.1, 0.2, 0.3, 0.4, 0.5],\n",
    "    batch_size=[16, 32, 64],\n",
    "    optimizer='adam',\n",
    "    learning_rate=[7.5e-3, 5.0e-3, 2.5e-3, 1.0e-4, 7.5e-4, 5e-4, 2.5e-4],\n",
    "    l1=[1e-5, 1e-6],\n",
    "    l2=[1e-5, 1e-6],\n",
    ")"
   ],
   "metadata": {
    "collapsed": false,
    "pycharm": {
     "name": "#%%\n"
    }
   }
  },
  {
   "cell_type": "code",
<<<<<<< HEAD
   "execution_count": null,
   "outputs": [],
=======
<<<<<<< HEAD
   "execution_count": null,
   "outputs": [],
=======
   "execution_count": 7,
   "outputs": [
    {
     "data": {
      "text/plain": "{'input_shape': (13,),\n 'regression_target': 1,\n 'regression_activation': 'relu',\n 'optimizer': 'adam'}"
     },
     "execution_count": 7,
     "metadata": {},
     "output_type": "execute_result"
    }
   ],
>>>>>>> main
>>>>>>> development
   "source": [
    "mlp_params.static_parameters"
   ],
   "metadata": {
    "collapsed": false,
    "pycharm": {
     "name": "#%%\n"
    }
   }
  },
  {
   "cell_type": "code",
<<<<<<< HEAD
   "execution_count": null,
   "outputs": [],
=======
<<<<<<< HEAD
   "execution_count": null,
   "outputs": [],
=======
   "execution_count": 8,
   "outputs": [
    {
     "data": {
      "text/plain": "{'hidden_neurons': [0, 16, 32, 64, 128, 258, 512, 1024, 2048],\n 'activation': ['relu', 'swish'],\n 'l1': [1e-05, 1e-06],\n 'l2': [1e-05, 1e-06],\n 'dropout': [0.1, 0.2, 0.3, 0.4, 0.5],\n 'batch_size': [16, 32, 64],\n 'learning_rate': [0.0075, 0.005, 0.0025, 0.0001, 0.00075, 0.0005, 0.00025]}"
     },
     "execution_count": 8,
     "metadata": {},
     "output_type": "execute_result"
    }
   ],
>>>>>>> main
>>>>>>> development
   "source": [
    "mlp_params.learnable_parameters"
   ],
   "metadata": {
    "collapsed": false,
    "pycharm": {
     "name": "#%%\n"
    }
   }
  },
  {
   "cell_type": "code",
<<<<<<< HEAD
   "execution_count": null,
=======
<<<<<<< HEAD
   "execution_count": null,
=======
   "execution_count": 9,
>>>>>>> main
>>>>>>> development
   "outputs": [],
   "source": [
    "callback = tf.keras.callbacks.EarlyStopping(monitor=\"val_loss\", mode=\"min\", patience=3)\n",
    "\n",
    "mlp = MLPStrategy(\n",
    "    max_fc = 3,\n",
    "    squeeze_fc=False,\n",
    "    epochs=100,\n",
    "    callback=callback,\n",
    "    loss='mean_squared_error',\n",
    "    metric = tfa.metrics.RSquare(),\n",
    "    parameters = mlp_params\n",
    ")"
   ],
   "metadata": {
    "collapsed": false,
    "pycharm": {
     "name": "#%%\n"
    }
   }
  },
  {
   "cell_type": "code",
<<<<<<< HEAD
   "execution_count": null,
=======
<<<<<<< HEAD
   "execution_count": null,
=======
   "execution_count": 10,
>>>>>>> main
>>>>>>> development
   "outputs": [],
   "source": [
    "train_data = tf.data.Dataset.from_tensor_slices((x_train, y_train))\n",
    "valid_data = tf.data.Dataset.from_tensor_slices((x_valid, y_valid))\n",
    "test_data = tf.data.Dataset.from_tensor_slices((x_test, y_test))\n",
    "\n",
    "data = (train_data, valid_data, test_data)"
   ],
   "metadata": {
    "collapsed": false,
    "pycharm": {
     "name": "#%%\n"
    }
   }
  },
  {
   "cell_type": "code",
<<<<<<< HEAD
   "execution_count": null,
=======
<<<<<<< HEAD
   "execution_count": null,
=======
   "execution_count": 11,
>>>>>>> main
>>>>>>> development
   "outputs": [],
   "source": [
    "ea = EvolutionaryAlgorithmElitism(\n",
    "    strategy=mlp,\n",
    "    pop_size=10,\n",
    "    elitism_size=1,\n",
    "    operations=operations,\n",
    ")"
   ],
   "metadata": {
    "collapsed": false,
    "pycharm": {
     "name": "#%%\n"
    }
   }
  },
  {
   "cell_type": "code",
<<<<<<< HEAD
   "execution_count": null,
   "outputs": [],
=======
<<<<<<< HEAD
   "execution_count": null,
   "outputs": [],
=======
   "execution_count": 12,
   "outputs": [
    {
     "data": {
      "text/plain": "Generations:   0%|          | 0/10 [00:00<?, ?it/s]",
      "application/vnd.jupyter.widget-view+json": {
       "version_major": 2,
       "version_minor": 0,
       "model_id": "80234a4f9feb46c891532874cde5b32c"
      }
     },
     "metadata": {},
     "output_type": "display_data"
    },
    {
     "data": {
      "text/plain": "Evaluating:   0%|          | 0/10 [00:00<?, ?it/s]",
      "application/vnd.jupyter.widget-view+json": {
       "version_major": 2,
       "version_minor": 0,
       "model_id": "0936f62159684f8789dedfeb4f12be84"
      }
     },
     "metadata": {},
     "output_type": "display_data"
    },
    {
     "name": "stdout",
     "output_type": "stream",
     "text": [
      "Generation 0,                 Best error: 21.505098342895508,                 Best R2 0.7416852116584778\n"
     ]
    },
    {
     "data": {
      "text/plain": "Evaluating:   0%|          | 0/10 [00:00<?, ?it/s]",
      "application/vnd.jupyter.widget-view+json": {
       "version_major": 2,
       "version_minor": 0,
       "model_id": "5e77b27a93484ffe9291a45b5d31f446"
      }
     },
     "metadata": {},
     "output_type": "display_data"
    },
    {
     "name": "stdout",
     "output_type": "stream",
     "text": [
      "Generation 1,                 Best error: 20.40453338623047,                 Best R2 0.7550977468490601\n"
     ]
    },
    {
     "data": {
      "text/plain": "Evaluating:   0%|          | 0/10 [00:00<?, ?it/s]",
      "application/vnd.jupyter.widget-view+json": {
       "version_major": 2,
       "version_minor": 0,
       "model_id": "8285ddd62b4045e098adbbd520d70f73"
      }
     },
     "metadata": {},
     "output_type": "display_data"
    },
    {
     "name": "stdout",
     "output_type": "stream",
     "text": [
      "Generation 2,                 Best error: 20.40453338623047,                 Best R2 0.7550977468490601\n"
     ]
    },
    {
     "data": {
      "text/plain": "Evaluating:   0%|          | 0/10 [00:00<?, ?it/s]",
      "application/vnd.jupyter.widget-view+json": {
       "version_major": 2,
       "version_minor": 0,
       "model_id": "f523ce54e61442d8b32c99d3a2fb5448"
      }
     },
     "metadata": {},
     "output_type": "display_data"
    },
    {
     "name": "stdout",
     "output_type": "stream",
     "text": [
      "Generation 3,                 Best error: 20.4045352935791,                 Best R2 0.7550979256629944\n"
     ]
    },
    {
     "data": {
      "text/plain": "Evaluating:   0%|          | 0/10 [00:00<?, ?it/s]",
      "application/vnd.jupyter.widget-view+json": {
       "version_major": 2,
       "version_minor": 0,
       "model_id": "f586a880ea174b2a815d4e4a8542ba36"
      }
     },
     "metadata": {},
     "output_type": "display_data"
    },
    {
     "name": "stdout",
     "output_type": "stream",
     "text": [
      "Generation 4,                 Best error: 20.40453338623047,                 Best R2 0.7550977468490601\n"
     ]
    },
    {
     "data": {
      "text/plain": "Evaluating:   0%|          | 0/10 [00:00<?, ?it/s]",
      "application/vnd.jupyter.widget-view+json": {
       "version_major": 2,
       "version_minor": 0,
       "model_id": "d1d09fdc1a0344e9a7a35e6b48a567d0"
      }
     },
     "metadata": {},
     "output_type": "display_data"
    },
    {
     "name": "stdout",
     "output_type": "stream",
     "text": [
      "Generation 5,                 Best error: 20.40453338623047,                 Best R2 0.7550977468490601\n"
     ]
    },
    {
     "data": {
      "text/plain": "Evaluating:   0%|          | 0/10 [00:00<?, ?it/s]",
      "application/vnd.jupyter.widget-view+json": {
       "version_major": 2,
       "version_minor": 0,
       "model_id": "5963843260a7488b9a0fff36b2f98ad5"
      }
     },
     "metadata": {},
     "output_type": "display_data"
    },
    {
     "name": "stdout",
     "output_type": "stream",
     "text": [
      "Generation 6,                 Best error: 20.4045352935791,                 Best R2 0.7550979256629944\n"
     ]
    },
    {
     "data": {
      "text/plain": "Evaluating:   0%|          | 0/10 [00:00<?, ?it/s]",
      "application/vnd.jupyter.widget-view+json": {
       "version_major": 2,
       "version_minor": 0,
       "model_id": "b9fab4088c7044999c001023bdc37393"
      }
     },
     "metadata": {},
     "output_type": "display_data"
    },
    {
     "name": "stdout",
     "output_type": "stream",
     "text": [
      "Generation 7,                 Best error: 19.661314010620117,                 Best R2 0.7648309469223022\n"
     ]
    },
    {
     "data": {
      "text/plain": "Evaluating:   0%|          | 0/10 [00:00<?, ?it/s]",
      "application/vnd.jupyter.widget-view+json": {
       "version_major": 2,
       "version_minor": 0,
       "model_id": "2616664627f14e68b7f58b2a347c7e88"
      }
     },
     "metadata": {},
     "output_type": "display_data"
    },
    {
     "name": "stdout",
     "output_type": "stream",
     "text": [
      "Generation 8,                 Best error: 19.661312103271484,                 Best R2 0.7648311853408813\n"
     ]
    },
    {
     "data": {
      "text/plain": "Evaluating:   0%|          | 0/10 [00:00<?, ?it/s]",
      "application/vnd.jupyter.widget-view+json": {
       "version_major": 2,
       "version_minor": 0,
       "model_id": "9037a9ccce43499288e012321d9e83d1"
      }
     },
     "metadata": {},
     "output_type": "display_data"
    },
    {
     "name": "stdout",
     "output_type": "stream",
     "text": [
      "Generation 9,                 Best error: 19.55856704711914,                 Best R2 0.7653734087944031\n"
     ]
    }
   ],
>>>>>>> main
>>>>>>> development
   "source": [
    "best_chromosome = ea.fit(\n",
    "    data,\n",
    "    generations=10,\n",
    ")"
   ],
   "metadata": {
    "collapsed": false,
    "pycharm": {
     "name": "#%%\n"
    }
   }
  },
  {
   "cell_type": "code",
<<<<<<< HEAD
   "execution_count": null,
   "outputs": [],
=======
<<<<<<< HEAD
   "execution_count": null,
   "outputs": [],
   "source": [
    "df = ea.results_df()"
   ],
   "metadata": {
    "collapsed": false,
    "pycharm": {
     "name": "#%%\n"
    }
   }
  },
  {
   "cell_type": "code",
   "execution_count": null,
   "outputs": [],
   "source": [
=======
   "execution_count": 16,
   "outputs": [
    {
     "data": {
      "text/plain": "                                   learnt_parameters  \\\n0  {'fc_0': {'hidden_neurons': 258, 'activation':...   \n1  {'fc_0': {'hidden_neurons': 2048, 'activation'...   \n2  {'fc_0': {'hidden_neurons': 32, 'activation': ...   \n3  {'fc_0': {'hidden_neurons': 32, 'activation': ...   \n4  {'fc_0': {'hidden_neurons': 512, 'activation':...   \n\n                                   static_parameters       loss    metric  \\\n0  {'input_shape': (13,), 'regression_target': 1,...  27.202644  0.673630   \n1  {'input_shape': (13,), 'regression_target': 1,...  27.098961  0.674638   \n2  {'input_shape': (13,), 'regression_target': 1,...  32.948597  0.604305   \n3  {'input_shape': (13,), 'regression_target': 1,...  36.577942  0.560611   \n4  {'input_shape': (13,), 'regression_target': 1,...  25.166851  0.698490   \n\n   generation  \n0           0  \n1           0  \n2           0  \n3           0  \n4           0  ",
      "text/html": "<div>\n<style scoped>\n    .dataframe tbody tr th:only-of-type {\n        vertical-align: middle;\n    }\n\n    .dataframe tbody tr th {\n        vertical-align: top;\n    }\n\n    .dataframe thead th {\n        text-align: right;\n    }\n</style>\n<table border=\"1\" class=\"dataframe\">\n  <thead>\n    <tr style=\"text-align: right;\">\n      <th></th>\n      <th>learnt_parameters</th>\n      <th>static_parameters</th>\n      <th>loss</th>\n      <th>metric</th>\n      <th>generation</th>\n    </tr>\n  </thead>\n  <tbody>\n    <tr>\n      <th>0</th>\n      <td>{'fc_0': {'hidden_neurons': 258, 'activation':...</td>\n      <td>{'input_shape': (13,), 'regression_target': 1,...</td>\n      <td>27.202644</td>\n      <td>0.673630</td>\n      <td>0</td>\n    </tr>\n    <tr>\n      <th>1</th>\n      <td>{'fc_0': {'hidden_neurons': 2048, 'activation'...</td>\n      <td>{'input_shape': (13,), 'regression_target': 1,...</td>\n      <td>27.098961</td>\n      <td>0.674638</td>\n      <td>0</td>\n    </tr>\n    <tr>\n      <th>2</th>\n      <td>{'fc_0': {'hidden_neurons': 32, 'activation': ...</td>\n      <td>{'input_shape': (13,), 'regression_target': 1,...</td>\n      <td>32.948597</td>\n      <td>0.604305</td>\n      <td>0</td>\n    </tr>\n    <tr>\n      <th>3</th>\n      <td>{'fc_0': {'hidden_neurons': 32, 'activation': ...</td>\n      <td>{'input_shape': (13,), 'regression_target': 1,...</td>\n      <td>36.577942</td>\n      <td>0.560611</td>\n      <td>0</td>\n    </tr>\n    <tr>\n      <th>4</th>\n      <td>{'fc_0': {'hidden_neurons': 512, 'activation':...</td>\n      <td>{'input_shape': (13,), 'regression_target': 1,...</td>\n      <td>25.166851</td>\n      <td>0.698490</td>\n      <td>0</td>\n    </tr>\n  </tbody>\n</table>\n</div>"
     },
     "execution_count": 16,
     "metadata": {},
     "output_type": "execute_result"
    }
   ],
>>>>>>> development
   "source": [
    "df = ea.results_df()\n",
>>>>>>> main
    "df.head()"
   ],
   "metadata": {
    "collapsed": false,
    "pycharm": {
     "name": "#%%\n"
    }
   }
  },
  {
   "cell_type": "code",
<<<<<<< HEAD
   "execution_count": null,
   "outputs": [],
=======
<<<<<<< HEAD
   "execution_count": null,
   "outputs": [],
=======
   "execution_count": 17,
   "outputs": [
    {
     "name": "stdout",
     "output_type": "stream",
     "text": [
      "Model: \"model\"\n",
      "_________________________________________________________________\n",
      " Layer (type)                Output Shape              Param #   \n",
      "=================================================================\n",
      " input_1 (InputLayer)        [(None, 13)]              0         \n",
      "                                                                 \n",
      " dense (Dense)               (None, 32)                448       \n",
      "                                                                 \n",
      " dropout (Dropout)           (None, 32)                0         \n",
      "                                                                 \n",
      " dense_1 (Dense)             (None, 32)                1056      \n",
      "                                                                 \n",
      " dropout_1 (Dropout)         (None, 32)                0         \n",
      "                                                                 \n",
      " dense_2 (Dense)             (None, 128)               4224      \n",
      "                                                                 \n",
      " dropout_2 (Dropout)         (None, 128)               0         \n",
      "                                                                 \n",
      " dense_3 (Dense)             (None, 1)                 129       \n",
      "                                                                 \n",
      "=================================================================\n",
      "Total params: 5,857\n",
      "Trainable params: 5,857\n",
      "Non-trainable params: 0\n",
      "_________________________________________________________________\n"
     ]
    }
   ],
>>>>>>> main
>>>>>>> development
   "source": [
    "model = best_chromosome.decode(mlp_params)\n",
    "model.summary()"
   ],
   "metadata": {
    "collapsed": false,
    "pycharm": {
     "name": "#%%\n"
    }
   }
  },
  {
   "cell_type": "code",
<<<<<<< HEAD
   "execution_count": null,
=======
<<<<<<< HEAD
   "execution_count": null,
   "outputs": [],
   "source": [
    "best_chromosome_row = df[df.loss == df.loss.min()]"
   ],
   "metadata": {
    "collapsed": false,
    "pycharm": {
     "name": "#%%\n"
    }
   }
  },
  {
   "cell_type": "code",
   "execution_count": null,
   "outputs": [],
   "source": [
    "dict(best_chromosome_row.learnt_parameters)"
=======
   "execution_count": 18,
>>>>>>> development
   "outputs": [],
   "source": [
    "# best model parameters from final generation\n",
    "best_chromosome_row = df[(df.loss == df.loss.min()) & (df.generation == df.generation.max())]"
>>>>>>> main
   ],
   "metadata": {
    "collapsed": false,
    "pycharm": {
     "name": "#%%\n"
    }
   }
  },
  {
   "cell_type": "code",
   "execution_count": null,
   "outputs": [],
   "source": [
    "dict(best_chromosome_row.static_parameters)"
   ],
   "metadata": {
    "collapsed": false,
    "pycharm": {
     "name": "#%%\n"
    }
   }
  },
  {
   "cell_type": "code",
   "execution_count": null,
   "outputs": [],
   "source": [
    "best_chromosome_row.head()"
   ],
   "metadata": {
    "collapsed": false,
    "pycharm": {
     "name": "#%%\n"
    }
   }
  },
  {
   "cell_type": "code",
   "execution_count": null,
   "outputs": [],
   "source": [
    "print(best_chromosome_row.learnt_parameters.tolist())"
   ],
   "metadata": {
    "collapsed": false,
    "pycharm": {
     "name": "#%%\n"
    }
   }
  },
  {
   "cell_type": "code",
   "execution_count": null,
   "outputs": [],
   "source": [
    "print(best_chromosome_row.static_parameters.tolist())"
   ],
   "metadata": {
    "collapsed": false,
    "pycharm": {
     "name": "#%%\n"
    }
   }
  },
  {
   "cell_type": "code",
   "execution_count": 23,
   "outputs": [
    {
     "data": {
      "text/plain": "[<keras.engine.functional.Functional at 0x29732ebe0>]"
     },
     "execution_count": 23,
     "metadata": {},
     "output_type": "execute_result"
    }
   ],
   "source": [
    "elite_models"
   ],
   "metadata": {
    "collapsed": false,
    "pycharm": {
     "name": "#%%\n"
    }
   }
  },
  {
   "cell_type": "code",
   "execution_count": null,
   "outputs": [],
   "source": [],
   "metadata": {
    "collapsed": false,
    "pycharm": {
     "name": "#%%\n"
    }
   }
  }
 ],
 "metadata": {
  "kernelspec": {
   "display_name": "Python 3",
   "language": "python",
   "name": "python3"
  },
  "language_info": {
   "codemirror_mode": {
    "name": "ipython",
    "version": 2
   },
   "file_extension": ".py",
   "mimetype": "text/x-python",
   "name": "python",
   "nbconvert_exporter": "python",
   "pygments_lexer": "ipython2",
   "version": "2.7.6"
  }
 },
 "nbformat": 4,
 "nbformat_minor": 0
}