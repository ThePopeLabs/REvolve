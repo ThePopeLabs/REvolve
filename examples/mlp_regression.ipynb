{
 "cells": [
  {
   "cell_type": "code",
   "execution_count": 37,
   "outputs": [],
   "source": [
    "import tensorflow as tf\n",
    "import tensorflow_addons as tfa\n",
    "from sklearn.preprocessing import StandardScaler\n",
    "from sklearn.model_selection import train_test_split\n",
    "import logging, os\n",
    "logging.disable(logging.WARNING)\n",
    "os.environ[\"TF_CPP_MIN_LOG_LEVEL\"] = \"3\"\n",
    "import warnings\n",
    "warnings.filterwarnings('ignore')\n",
    "\n",
    "from revolve.grids import MLPParameterGrid\n",
    "from revolve.architectures import MLPStrategy\n",
    "from revolve.algorithms import EvolutionaryAlgorithmElitism\n",
    "from revolve.operators import (\n",
    "    Operations,\n",
    "    random_mutation,\n",
    "    uniform_crossover,\n",
    "    roulette_wheel_selection,\n",
    ")\n"
   ],
   "metadata": {
    "collapsed": false,
    "pycharm": {
     "name": "#%%\n"
    }
   }
  },
  {
   "cell_type": "code",
   "execution_count": 38,
   "outputs": [],
   "source": [
    "train, test = tf.keras.datasets.boston_housing.load_data(\n",
    "    path=\"boston_housing.npz\", test_split=0.2, seed=113\n",
    ")\n",
    "\n",
    "x_train_full, y_train_full = train\n",
    "x_test, y_test = test\n",
    "\n",
    "x_train, x_valid, y_train, y_valid = train_test_split(x_train_full, y_train_full, test_size=0.1, random_state=42)"
   ],
   "metadata": {
    "collapsed": false,
    "pycharm": {
     "name": "#%%\n"
    }
   }
  },
  {
   "cell_type": "code",
   "execution_count": 39,
   "outputs": [],
   "source": [
    "scaler = StandardScaler()\n",
    "x_train = scaler.fit_transform(x_train)\n",
    "x_valid = scaler.transform(x_valid)\n",
    "x_test = scaler.transform(x_test)"
   ],
   "metadata": {
    "collapsed": false,
    "pycharm": {
     "name": "#%%\n"
    }
   }
  },
  {
   "cell_type": "code",
   "execution_count": 40,
   "outputs": [],
   "source": [
    "operations = Operations()\n",
    "operations.register(roulette_wheel_selection)\n",
    "operations.register(uniform_crossover, probability=0.5)\n",
    "operations.register(random_mutation, probability=0.3)"
   ],
   "metadata": {
    "collapsed": false,
    "pycharm": {
     "name": "#%%\n"
    }
   }
  },
  {
   "cell_type": "code",
   "execution_count": 49,
   "outputs": [],
   "source": [
    "mlp_params = MLPParameterGrid(\n",
    "    input_shape=(x_train.shape[1],),\n",
    "    regression_target=1,\n",
    "    regression_activation= \"relu\",\n",
    "    hidden_neurons = [0, 64, 128, 258, 512, 1024, 2048],\n",
    "    activation=['relu', 'swish'],\n",
    "    dropout=[0.1, 0.2, 0.3, 0.4, 0.5],\n",
    "    batch_size=[16, 32, 64],\n",
    "    optimizer=['adam', 'sgd', 'rmsprop'],\n",
    "    learning_rate=[1.0e-4, 7.5e-4, 5e-4, 2.5e-4],\n",
    "    l1=1e-6,\n",
    "    l2=1e-6,\n",
    ")\n",
    "\n"
   ],
   "metadata": {
    "collapsed": false,
    "pycharm": {
     "name": "#%%\n"
    }
   }
  },
  {
   "cell_type": "code",
   "execution_count": 50,
   "outputs": [
    {
     "data": {
      "text/plain": "{'input_shape': (13,),\n 'regression_target': 1,\n 'regression_activation': 'relu',\n 'l1': 1e-06,\n 'l2': 1e-06}"
     },
     "execution_count": 50,
     "metadata": {},
     "output_type": "execute_result"
    }
   ],
   "source": [
    "mlp_params.static_parameters"
   ],
   "metadata": {
    "collapsed": false,
    "pycharm": {
     "name": "#%%\n"
    }
   }
  },
  {
   "cell_type": "code",
   "execution_count": 51,
   "outputs": [
    {
     "data": {
      "text/plain": "{'hidden_neurons': [0, 64, 128, 258, 512, 1024, 2048],\n 'activation': ['relu', 'swish'],\n 'dropout': [0.1, 0.2, 0.3, 0.4, 0.5],\n 'batch_size': [16, 32, 64],\n 'optimizer': ['adam', 'sgd', 'rmsprop'],\n 'learning_rate': [0.0001, 0.00075, 0.0005, 0.00025]}"
     },
     "execution_count": 51,
     "metadata": {},
     "output_type": "execute_result"
    }
   ],
   "source": [
    "mlp_params.learnable_parameters"
   ],
   "metadata": {
    "collapsed": false,
    "pycharm": {
     "name": "#%%\n"
    }
   }
  },
  {
   "cell_type": "code",
   "execution_count": 52,
   "outputs": [],
   "source": [
    "callback = tf.keras.callbacks.EarlyStopping(monitor=\"val_loss\", mode=\"min\", patience=2)\n",
    "\n",
    "mlp = MLPStrategy(\n",
    "    max_fc = 3,\n",
    "    squeeze_fc=False,\n",
    "    epochs=50,\n",
    "    callback=callback,\n",
    "    loss='mean_squared_error',\n",
    "    metric = tfa.metrics.RSquare(),\n",
    "    parameters = mlp_params\n",
    ")"
   ],
   "metadata": {
    "collapsed": false,
    "pycharm": {
     "name": "#%%\n"
    }
   }
  },
  {
   "cell_type": "code",
   "execution_count": 53,
   "outputs": [],
   "source": [
    "train_data = tf.data.Dataset.from_tensor_slices((x_train, y_train))\n",
    "valid_data = tf.data.Dataset.from_tensor_slices((x_valid, y_valid))\n",
    "test_data = tf.data.Dataset.from_tensor_slices((x_test, y_test))\n",
    "\n",
    "data = (train_data, valid_data, test_data)"
   ],
   "metadata": {
    "collapsed": false,
    "pycharm": {
     "name": "#%%\n"
    }
   }
  },
  {
   "cell_type": "code",
   "execution_count": 62,
   "outputs": [],
   "source": [
    "ea = EvolutionaryAlgorithmElitism(\n",
    "    strategy=mlp,\n",
    "    pop_size=10,\n",
    "    elitism_size=1,\n",
    "    operations=operations,\n",
    ")"
   ],
   "metadata": {
    "collapsed": false,
    "pycharm": {
     "name": "#%%\n"
    }
   }
  },
  {
   "cell_type": "code",
   "execution_count": 63,
   "outputs": [
    {
     "data": {
      "text/plain": "Generations:   0%|          | 0/10 [00:00<?, ?it/s]",
      "application/vnd.jupyter.widget-view+json": {
       "version_major": 2,
       "version_minor": 0,
       "model_id": "236d0d1075184122820ffe76cf56563e"
      }
     },
     "metadata": {},
     "output_type": "display_data"
    },
    {
     "data": {
      "text/plain": "Evaluating:   0%|          | 0/10 [00:00<?, ?it/s]",
      "application/vnd.jupyter.widget-view+json": {
       "version_major": 2,
       "version_minor": 0,
       "model_id": "6e99ace1352f43fdba28f2c7a4e6ebaa"
      }
     },
     "metadata": {},
     "output_type": "display_data"
    },
    {
     "name": "stdout",
     "output_type": "stream",
     "text": [
      "Generation 0,                 Best error: 20.3051700592041,                 Best R2 0.7560950517654419\n"
     ]
    },
    {
     "data": {
      "text/plain": "Evaluating:   0%|          | 0/10 [00:00<?, ?it/s]",
      "application/vnd.jupyter.widget-view+json": {
       "version_major": 2,
       "version_minor": 0,
       "model_id": "32fda3d7443e41788f5c29fadbd21cb3"
      }
     },
     "metadata": {},
     "output_type": "display_data"
    },
    {
     "name": "stdout",
     "output_type": "stream",
     "text": [
      "Generation 1,                 Best error: 19.31211280822754,                 Best R2 0.7681102752685547\n"
     ]
    },
    {
     "data": {
      "text/plain": "Evaluating:   0%|          | 0/10 [00:00<?, ?it/s]",
      "application/vnd.jupyter.widget-view+json": {
       "version_major": 2,
       "version_minor": 0,
       "model_id": "b598a8afe0084c1883d7ea93d1343baa"
      }
     },
     "metadata": {},
     "output_type": "display_data"
    },
    {
     "name": "stdout",
     "output_type": "stream",
     "text": [
      "Generation 2,                 Best error: 19.31211280822754,                 Best R2 0.7681103944778442\n"
     ]
    },
    {
     "data": {
      "text/plain": "Evaluating:   0%|          | 0/10 [00:00<?, ?it/s]",
      "application/vnd.jupyter.widget-view+json": {
       "version_major": 2,
       "version_minor": 0,
       "model_id": "0829bd56f78f495db546ecb407ad5a2b"
      }
     },
     "metadata": {},
     "output_type": "display_data"
    },
    {
     "name": "stdout",
     "output_type": "stream",
     "text": [
      "Generation 3,                 Best error: 19.31211280822754,                 Best R2 0.7681103944778442\n"
     ]
    },
    {
     "data": {
      "text/plain": "Evaluating:   0%|          | 0/10 [00:00<?, ?it/s]",
      "application/vnd.jupyter.widget-view+json": {
       "version_major": 2,
       "version_minor": 0,
       "model_id": "d1ee6b613f7f4cff9b7dcd5bad6d335a"
      }
     },
     "metadata": {},
     "output_type": "display_data"
    },
    {
     "name": "stdout",
     "output_type": "stream",
     "text": [
      "Generation 4,                 Best error: 18.40056610107422,                 Best R2 0.7790370583534241\n"
     ]
    },
    {
     "data": {
      "text/plain": "Evaluating:   0%|          | 0/10 [00:00<?, ?it/s]",
      "application/vnd.jupyter.widget-view+json": {
       "version_major": 2,
       "version_minor": 0,
       "model_id": "e9c0bf093c2946a9b3ff0d46a3b8dd2f"
      }
     },
     "metadata": {},
     "output_type": "display_data"
    },
    {
     "name": "stdout",
     "output_type": "stream",
     "text": [
      "Generation 5,                 Best error: 18.40056610107422,                 Best R2 0.7790370583534241\n"
     ]
    },
    {
     "data": {
      "text/plain": "Evaluating:   0%|          | 0/10 [00:00<?, ?it/s]",
      "application/vnd.jupyter.widget-view+json": {
       "version_major": 2,
       "version_minor": 0,
       "model_id": "6644fa1f97bf41ec972f7db7f92cf12d"
      }
     },
     "metadata": {},
     "output_type": "display_data"
    },
    {
     "name": "stdout",
     "output_type": "stream",
     "text": [
      "Generation 6,                 Best error: 18.40056610107422,                 Best R2 0.7790370583534241\n"
     ]
    },
    {
     "data": {
      "text/plain": "Evaluating:   0%|          | 0/10 [00:00<?, ?it/s]",
      "application/vnd.jupyter.widget-view+json": {
       "version_major": 2,
       "version_minor": 0,
       "model_id": "d1b5f56ba702475eb06663b6f6ab9e2b"
      }
     },
     "metadata": {},
     "output_type": "display_data"
    },
    {
     "name": "stdout",
     "output_type": "stream",
     "text": [
      "Generation 7,                 Best error: 13.591290473937988,                 Best R2 0.8368948698043823\n"
     ]
    },
    {
     "data": {
      "text/plain": "Evaluating:   0%|          | 0/10 [00:00<?, ?it/s]",
      "application/vnd.jupyter.widget-view+json": {
       "version_major": 2,
       "version_minor": 0,
       "model_id": "94ff04b040b54b43b6a34c24683d7e51"
      }
     },
     "metadata": {},
     "output_type": "display_data"
    },
    {
     "name": "stdout",
     "output_type": "stream",
     "text": [
      "Generation 8,                 Best error: 13.591290473937988,                 Best R2 0.8368948698043823\n"
     ]
    },
    {
     "data": {
      "text/plain": "Evaluating:   0%|          | 0/10 [00:00<?, ?it/s]",
      "application/vnd.jupyter.widget-view+json": {
       "version_major": 2,
       "version_minor": 0,
       "model_id": "c363b6ce62c44c318b7f9d31dc958d42"
      }
     },
     "metadata": {},
     "output_type": "display_data"
    },
    {
     "name": "stdout",
     "output_type": "stream",
     "text": [
      "Generation 9,                 Best error: 13.591290473937988,                 Best R2 0.8368949294090271\n"
     ]
    }
   ],
   "source": [
    "best_chromosome = ea.fit(\n",
    "    data,\n",
    "    generations=10,\n",
    ")"
   ],
   "metadata": {
    "collapsed": false,
    "pycharm": {
     "name": "#%%\n"
    }
   }
  },
  {
   "cell_type": "code",
   "execution_count": 64,
   "outputs": [
    {
     "data": {
      "text/plain": "                                   learnt_parameters  \\\n0  {'fc_0': {'hidden_neurons': 1024, 'activation'...   \n1  {'fc_0': {'hidden_neurons': 1024, 'activation'...   \n2  {'fc_0': {'hidden_neurons': 2048, 'activation'...   \n3  {'fc_0': {'hidden_neurons': 128, 'activation':...   \n4  {'fc_0': {'hidden_neurons': 64, 'activation': ...   \n\n                                   static_parameters        loss    metric  \\\n0  {'input_shape': (13,), 'regression_target': 1,...   26.428553  0.682887   \n1  {'input_shape': (13,), 'regression_target': 1,...   25.976439  0.689116   \n2  {'input_shape': (13,), 'regression_target': 1,...  103.804733 -0.246576   \n3  {'input_shape': (13,), 'regression_target': 1,...   38.710682  0.535009   \n4  {'input_shape': (13,), 'regression_target': 1,...   35.146130  0.577817   \n\n   generation  \n0           0  \n1           0  \n2           0  \n3           0  \n4           0  ",
      "text/html": "<div>\n<style scoped>\n    .dataframe tbody tr th:only-of-type {\n        vertical-align: middle;\n    }\n\n    .dataframe tbody tr th {\n        vertical-align: top;\n    }\n\n    .dataframe thead th {\n        text-align: right;\n    }\n</style>\n<table border=\"1\" class=\"dataframe\">\n  <thead>\n    <tr style=\"text-align: right;\">\n      <th></th>\n      <th>learnt_parameters</th>\n      <th>static_parameters</th>\n      <th>loss</th>\n      <th>metric</th>\n      <th>generation</th>\n    </tr>\n  </thead>\n  <tbody>\n    <tr>\n      <th>0</th>\n      <td>{'fc_0': {'hidden_neurons': 1024, 'activation'...</td>\n      <td>{'input_shape': (13,), 'regression_target': 1,...</td>\n      <td>26.428553</td>\n      <td>0.682887</td>\n      <td>0</td>\n    </tr>\n    <tr>\n      <th>1</th>\n      <td>{'fc_0': {'hidden_neurons': 1024, 'activation'...</td>\n      <td>{'input_shape': (13,), 'regression_target': 1,...</td>\n      <td>25.976439</td>\n      <td>0.689116</td>\n      <td>0</td>\n    </tr>\n    <tr>\n      <th>2</th>\n      <td>{'fc_0': {'hidden_neurons': 2048, 'activation'...</td>\n      <td>{'input_shape': (13,), 'regression_target': 1,...</td>\n      <td>103.804733</td>\n      <td>-0.246576</td>\n      <td>0</td>\n    </tr>\n    <tr>\n      <th>3</th>\n      <td>{'fc_0': {'hidden_neurons': 128, 'activation':...</td>\n      <td>{'input_shape': (13,), 'regression_target': 1,...</td>\n      <td>38.710682</td>\n      <td>0.535009</td>\n      <td>0</td>\n    </tr>\n    <tr>\n      <th>4</th>\n      <td>{'fc_0': {'hidden_neurons': 64, 'activation': ...</td>\n      <td>{'input_shape': (13,), 'regression_target': 1,...</td>\n      <td>35.146130</td>\n      <td>0.577817</td>\n      <td>0</td>\n    </tr>\n  </tbody>\n</table>\n</div>"
     },
     "execution_count": 64,
     "metadata": {},
     "output_type": "execute_result"
    }
   ],
   "source": [
    "df = ea.results_df()\n",
    "df.head()"
   ],
   "metadata": {
    "collapsed": false,
    "pycharm": {
     "name": "#%%\n"
    }
   }
  },
  {
   "cell_type": "code",
   "execution_count": 65,
   "outputs": [
    {
     "name": "stdout",
     "output_type": "stream",
     "text": [
      "Model: \"model\"\n",
      "_________________________________________________________________\n",
      " Layer (type)                Output Shape              Param #   \n",
      "=================================================================\n",
      " input_1 (InputLayer)        [(None, 13)]              0         \n",
      "                                                                 \n",
      " dense (Dense)               (None, 258)               3612      \n",
      "                                                                 \n",
      " dropout (Dropout)           (None, 258)               0         \n",
      "                                                                 \n",
      " dense_1 (Dense)             (None, 64)                16576     \n",
      "                                                                 \n",
      " dropout_1 (Dropout)         (None, 64)                0         \n",
      "                                                                 \n",
      " dense_2 (Dense)             (None, 512)               33280     \n",
      "                                                                 \n",
      " dropout_2 (Dropout)         (None, 512)               0         \n",
      "                                                                 \n",
      " dense_3 (Dense)             (None, 1)                 513       \n",
      "                                                                 \n",
      "=================================================================\n",
      "Total params: 53,981\n",
      "Trainable params: 53,981\n",
      "Non-trainable params: 0\n",
      "_________________________________________________________________\n"
     ]
    }
   ],
   "source": [
    "model = best_chromosome.decode(mlp_params)\n",
    "model.summary()"
   ],
   "metadata": {
    "collapsed": false,
    "pycharm": {
     "name": "#%%\n"
    }
   }
  },
  {
   "cell_type": "code",
   "execution_count": 66,
   "outputs": [],
   "source": [
    "best_chromosome_row = df[(df.loss == df.loss.min()) & (df.generation == df.generation.max())]"
   ],
   "metadata": {
    "collapsed": false,
    "pycharm": {
     "name": "#%%\n"
    }
   }
  },
  {
   "cell_type": "code",
   "execution_count": 67,
   "outputs": [
    {
     "data": {
      "text/plain": "[{'fc_0': {'hidden_neurons': 2048,\n   'activation': 'swish',\n   'dropout': 0.4,\n   'l1': 1e-06,\n   'l2': 1e-06},\n  'fc_1': {'hidden_neurons': 64,\n   'activation': 'relu',\n   'dropout': 0.4,\n   'l1': 1e-06,\n   'l2': 1e-06},\n  'fc_2': {'hidden_neurons': 1024,\n   'activation': 'relu',\n   'dropout': 0.5,\n   'l1': 1e-06,\n   'l2': 1e-06},\n  'batch_size_3': {'batch_size': 16},\n  'optimizer_4': {'optimizer': 'adam'},\n  'learning_rate_5': {'learning_rate': 0.00075}}]"
     },
     "execution_count": 67,
     "metadata": {},
     "output_type": "execute_result"
    }
   ],
   "source": [
    "list(best_chromosome_row.learnt_parameters)"
   ],
   "metadata": {
    "collapsed": false,
    "pycharm": {
     "name": "#%%\n"
    }
   }
  },
  {
   "cell_type": "code",
   "execution_count": 68,
   "outputs": [
    {
     "data": {
      "text/plain": "[{'input_shape': (13,),\n  'regression_target': 1,\n  'regression_activation': 'relu',\n  'l1': 1e-06,\n  'l2': 1e-06}]"
     },
     "execution_count": 68,
     "metadata": {},
     "output_type": "execute_result"
    }
   ],
   "source": [
    "list(best_chromosome_row.static_parameters)"
   ],
   "metadata": {
    "collapsed": false,
    "pycharm": {
     "name": "#%%\n"
    }
   }
  },
  {
   "cell_type": "code",
   "execution_count": 69,
   "outputs": [
    {
     "data": {
      "text/plain": "[<keras.engine.functional.Functional at 0x2b8b835b0>]"
     },
     "execution_count": 69,
     "metadata": {},
     "output_type": "execute_result"
    }
   ],
   "source": [
    "elite_models = ea.elite_models\n",
    "elite_models\n"
   ],
   "metadata": {
    "collapsed": false,
    "pycharm": {
     "name": "#%%\n"
    }
   }
  },
  {
   "cell_type": "code",
   "execution_count": 69,
   "outputs": [],
   "source": [],
   "metadata": {
    "collapsed": false,
    "pycharm": {
     "name": "#%%\n"
    }
   }
  },
  {
   "cell_type": "code",
   "execution_count": null,
   "outputs": [],
   "source": [],
   "metadata": {
    "collapsed": false,
    "pycharm": {
     "name": "#%%\n"
    }
   }
  }
 ],
 "metadata": {
  "kernelspec": {
   "display_name": "Python 3",
   "language": "python",
   "name": "python3"
  },
  "language_info": {
   "codemirror_mode": {
    "name": "ipython",
    "version": 2
   },
   "file_extension": ".py",
   "mimetype": "text/x-python",
   "name": "python",
   "nbconvert_exporter": "python",
   "pygments_lexer": "ipython2",
   "version": "2.7.6"
  }
 },
 "nbformat": 4,
 "nbformat_minor": 0
}